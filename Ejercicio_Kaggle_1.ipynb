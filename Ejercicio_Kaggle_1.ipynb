{
 "cells": [
  {
   "cell_type": "markdown",
   "id": "29944552",
   "metadata": {},
   "source": [
    "Librerías"
   ]
  },
  {
   "cell_type": "code",
   "execution_count": 2,
   "id": "718021ef",
   "metadata": {},
   "outputs": [],
   "source": [
    "import pandas as pd\n",
    "import numpy as np\n",
    "import matplotlib as mp\n",
    "import seaborn  as sn"
   ]
  },
  {
   "cell_type": "code",
   "execution_count": null,
   "id": "0025312e",
   "metadata": {},
   "outputs": [],
   "source": [
    "# Cargar los archivos\n",
    "\n",
    "df= pd."
   ]
  }
 ],
 "metadata": {
  "kernelspec": {
   "display_name": "Python 3",
   "language": "python",
   "name": "python3"
  },
  "language_info": {
   "codemirror_mode": {
    "name": "ipython",
    "version": 3
   },
   "file_extension": ".py",
   "mimetype": "text/x-python",
   "name": "python",
   "nbconvert_exporter": "python",
   "pygments_lexer": "ipython3",
   "version": "3.13.3"
  }
 },
 "nbformat": 4,
 "nbformat_minor": 5
}
