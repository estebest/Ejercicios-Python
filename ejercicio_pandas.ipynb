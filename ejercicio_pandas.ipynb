{
 "cells": [
  {
   "cell_type": "code",
   "execution_count": 1,
   "id": "9ef0acb3",
   "metadata": {},
   "outputs": [],
   "source": [
    "import pandas as pd"
   ]
  },
  {
   "cell_type": "code",
   "execution_count": 2,
   "id": "d3463d9d",
   "metadata": {},
   "outputs": [
    {
     "name": "stdout",
     "output_type": "stream",
     "text": [
      "   Nombre  Edad     Ciudad  Puntaje\n",
      "0     Ana    23     Madrid       88\n",
      "1    Luis    35  Barcelona       92\n",
      "2   Marta    29     Madrid       95\n",
      "3  Carlos    42   Valencia       70\n",
      "4   Sofía    19  Barcelona       85\n"
     ]
    }
   ],
   "source": [
    "\n",
    "data = {\n",
    "    'Nombre': ['Ana', 'Luis', 'Marta', 'Carlos', 'Sofía'],\n",
    "    'Edad': [23, 35, 29, 42, 19],\n",
    "    'Ciudad': ['Madrid', 'Barcelona', 'Madrid', 'Valencia', 'Barcelona'],\n",
    "    'Puntaje': [88, 92, 95, 70, 85]\n",
    "}\n",
    "\n",
    "df = pd.DataFrame(data)\n",
    "print(df)"
   ]
  },
  {
   "cell_type": "markdown",
   "id": "7f6da465",
   "metadata": {},
   "source": [
    "Preguntas:\n",
    "¿Cuántas personas son de Madrid?\n",
    "\n",
    "¿Cuál es la edad promedio de las personas de Barcelona?\n",
    "\n",
    "Muestra solo las filas donde el puntaje es mayor a 90.\n",
    "\n",
    "Agrega una columna llamada \"Aprobado\" que sea True si el puntaje es mayor o igual a 85, y False en caso contrario."
   ]
  },
  {
   "cell_type": "code",
   "execution_count": null,
   "id": "9c0f1959",
   "metadata": {},
   "outputs": [
    {
     "data": {
      "text/plain": [
       "2"
      ]
     },
     "execution_count": 8,
     "metadata": {},
     "output_type": "execute_result"
    }
   ],
   "source": [
    "madrid=df[df['Ciudad'] == 'Madrid']\n",
    "\n",
    "madrid['Nombre'].count()\n",
    "\n",
    "# Otra opción\n",
    "df[df['Ciudad'] == 'Madrid'].shape[0]\n",
    "\n"
   ]
  },
  {
   "cell_type": "code",
   "execution_count": 16,
   "id": "b8e3bc0d",
   "metadata": {},
   "outputs": [
    {
     "data": {
      "text/plain": [
       "27.0"
      ]
     },
     "execution_count": 16,
     "metadata": {},
     "output_type": "execute_result"
    }
   ],
   "source": [
    "Barcelona= df[df['Ciudad'] == 'Barcelona']\n",
    "\n",
    "Barcelona['Edad'].mean()\n",
    "\n",
    "# Otra opción:\n",
    "df[df['Ciudad'] == 'Barcelona']['Edad'].mean()\n"
   ]
  },
  {
   "cell_type": "code",
   "execution_count": 11,
   "id": "e5da193f",
   "metadata": {},
   "outputs": [
    {
     "data": {
      "application/vnd.microsoft.datawrangler.viewer.v0+json": {
       "columns": [
        {
         "name": "index",
         "rawType": "int64",
         "type": "integer"
        },
        {
         "name": "Nombre",
         "rawType": "object",
         "type": "string"
        },
        {
         "name": "Edad",
         "rawType": "int64",
         "type": "integer"
        },
        {
         "name": "Ciudad",
         "rawType": "object",
         "type": "string"
        },
        {
         "name": "Puntaje",
         "rawType": "int64",
         "type": "integer"
        }
       ],
       "conversionMethod": "pd.DataFrame",
       "ref": "89e2025c-6d7a-4c05-b814-c1bbadb94ebd",
       "rows": [
        [
         "1",
         "Luis",
         "35",
         "Barcelona",
         "92"
        ],
        [
         "2",
         "Marta",
         "29",
         "Madrid",
         "95"
        ]
       ],
       "shape": {
        "columns": 4,
        "rows": 2
       }
      },
      "text/html": [
       "<div>\n",
       "<style scoped>\n",
       "    .dataframe tbody tr th:only-of-type {\n",
       "        vertical-align: middle;\n",
       "    }\n",
       "\n",
       "    .dataframe tbody tr th {\n",
       "        vertical-align: top;\n",
       "    }\n",
       "\n",
       "    .dataframe thead th {\n",
       "        text-align: right;\n",
       "    }\n",
       "</style>\n",
       "<table border=\"1\" class=\"dataframe\">\n",
       "  <thead>\n",
       "    <tr style=\"text-align: right;\">\n",
       "      <th></th>\n",
       "      <th>Nombre</th>\n",
       "      <th>Edad</th>\n",
       "      <th>Ciudad</th>\n",
       "      <th>Puntaje</th>\n",
       "    </tr>\n",
       "  </thead>\n",
       "  <tbody>\n",
       "    <tr>\n",
       "      <th>1</th>\n",
       "      <td>Luis</td>\n",
       "      <td>35</td>\n",
       "      <td>Barcelona</td>\n",
       "      <td>92</td>\n",
       "    </tr>\n",
       "    <tr>\n",
       "      <th>2</th>\n",
       "      <td>Marta</td>\n",
       "      <td>29</td>\n",
       "      <td>Madrid</td>\n",
       "      <td>95</td>\n",
       "    </tr>\n",
       "  </tbody>\n",
       "</table>\n",
       "</div>"
      ],
      "text/plain": [
       "  Nombre  Edad     Ciudad  Puntaje\n",
       "1   Luis    35  Barcelona       92\n",
       "2  Marta    29     Madrid       95"
      ]
     },
     "execution_count": 11,
     "metadata": {},
     "output_type": "execute_result"
    }
   ],
   "source": [
    "df[df['Puntaje']> 90]"
   ]
  },
  {
   "cell_type": "code",
   "execution_count": null,
   "id": "28f5dc2f",
   "metadata": {},
   "outputs": [],
   "source": [
    "df['Aprobado']= df['Puntaje']> 85"
   ]
  },
  {
   "cell_type": "markdown",
   "id": "c42352c6",
   "metadata": {},
   "source": [
    "Ejerccio un poco más avanzado"
   ]
  },
  {
   "cell_type": "code",
   "execution_count": 17,
   "id": "aeaef0fd",
   "metadata": {},
   "outputs": [
    {
     "name": "stdout",
     "output_type": "stream",
     "text": [
      "  Vendedor    Producto  Cantidad  PrecioUnitario FechaVenta\n",
      "0      Ana      Laptop         5            1200 2023-05-01\n",
      "1     Luis  Smartphone         3             800 2023-05-01\n",
      "2    Marta      Tablet         2             600 2023-05-02\n",
      "3   Carlos      Laptop         4            1200 2023-05-02\n",
      "4    Sofía  Smartphone         1             800 2023-05-02\n",
      "5      Ana      Tablet         5             600 2023-05-03\n",
      "6     Luis      Laptop         3            1200 2023-05-03\n",
      "7   Carlos      Tablet         2             600 2023-05-04\n",
      "8    Marta      Laptop         6            1200 2023-05-04\n",
      "9    Sofía  Smartphone         3             800 2023-05-05\n"
     ]
    }
   ],
   "source": [
    "data = {\n",
    "    'Vendedor': ['Ana', 'Luis', 'Marta', 'Carlos', 'Sofía', 'Ana', 'Luis', 'Carlos', 'Marta', 'Sofía'],\n",
    "    'Producto': ['Laptop', 'Smartphone', 'Tablet', 'Laptop', 'Smartphone', 'Tablet', 'Laptop', 'Tablet', 'Laptop', 'Smartphone'],\n",
    "    'Cantidad': [5, 3, 2, 4, 1, 5, 3, 2, 6, 3],\n",
    "    'PrecioUnitario': [1200, 800, 600, 1200, 800, 600, 1200, 600, 1200, 800],\n",
    "    'FechaVenta': ['2023-05-01', '2023-05-01', '2023-05-02', '2023-05-02', '2023-05-02', '2023-05-03', '2023-05-03', '2023-05-04', '2023-05-04', '2023-05-05']\n",
    "}\n",
    "\n",
    "df = pd.DataFrame(data)\n",
    "df['FechaVenta'] = pd.to_datetime(df['FechaVenta'])\n",
    "print(df)\n"
   ]
  },
  {
   "cell_type": "markdown",
   "id": "45e932f0",
   "metadata": {},
   "source": [
    "¿Cuál es el total vendido por cada vendedor?\n",
    "\n",
    "Crea una columna 'TotalVendido' que sea la multiplicación de 'Cantidad' y 'PrecioUnitario'.\n",
    "\n",
    "Luego, usa .groupby() para encontrar el total vendido por cada vendedor."
   ]
  },
  {
   "cell_type": "code",
   "execution_count": null,
   "id": "a591fd41",
   "metadata": {},
   "outputs": [
    {
     "data": {
      "application/vnd.microsoft.datawrangler.viewer.v0+json": {
       "columns": [
        {
         "name": "Vendedor",
         "rawType": "object",
         "type": "string"
        },
        {
         "name": "Cantidad",
         "rawType": "int64",
         "type": "integer"
        },
        {
         "name": "PrecioUnitario",
         "rawType": "int64",
         "type": "integer"
        },
        {
         "name": "total vendido",
         "rawType": "int64",
         "type": "integer"
        }
       ],
       "conversionMethod": "pd.DataFrame",
       "ref": "3e888b40-045c-42a6-9da8-6a388c4c083b",
       "rows": [
        [
         "Ana",
         "10",
         "1800",
         "9000"
        ],
        [
         "Carlos",
         "6",
         "1800",
         "6000"
        ],
        [
         "Luis",
         "6",
         "2000",
         "6000"
        ],
        [
         "Marta",
         "8",
         "1800",
         "8400"
        ],
        [
         "Sofía",
         "4",
         "1600",
         "3200"
        ]
       ],
       "shape": {
        "columns": 3,
        "rows": 5
       }
      },
      "text/html": [
       "<div>\n",
       "<style scoped>\n",
       "    .dataframe tbody tr th:only-of-type {\n",
       "        vertical-align: middle;\n",
       "    }\n",
       "\n",
       "    .dataframe tbody tr th {\n",
       "        vertical-align: top;\n",
       "    }\n",
       "\n",
       "    .dataframe thead th {\n",
       "        text-align: right;\n",
       "    }\n",
       "</style>\n",
       "<table border=\"1\" class=\"dataframe\">\n",
       "  <thead>\n",
       "    <tr style=\"text-align: right;\">\n",
       "      <th></th>\n",
       "      <th>Cantidad</th>\n",
       "      <th>PrecioUnitario</th>\n",
       "      <th>total vendido</th>\n",
       "    </tr>\n",
       "    <tr>\n",
       "      <th>Vendedor</th>\n",
       "      <th></th>\n",
       "      <th></th>\n",
       "      <th></th>\n",
       "    </tr>\n",
       "  </thead>\n",
       "  <tbody>\n",
       "    <tr>\n",
       "      <th>Ana</th>\n",
       "      <td>10</td>\n",
       "      <td>1800</td>\n",
       "      <td>9000</td>\n",
       "    </tr>\n",
       "    <tr>\n",
       "      <th>Carlos</th>\n",
       "      <td>6</td>\n",
       "      <td>1800</td>\n",
       "      <td>6000</td>\n",
       "    </tr>\n",
       "    <tr>\n",
       "      <th>Luis</th>\n",
       "      <td>6</td>\n",
       "      <td>2000</td>\n",
       "      <td>6000</td>\n",
       "    </tr>\n",
       "    <tr>\n",
       "      <th>Marta</th>\n",
       "      <td>8</td>\n",
       "      <td>1800</td>\n",
       "      <td>8400</td>\n",
       "    </tr>\n",
       "    <tr>\n",
       "      <th>Sofía</th>\n",
       "      <td>4</td>\n",
       "      <td>1600</td>\n",
       "      <td>3200</td>\n",
       "    </tr>\n",
       "  </tbody>\n",
       "</table>\n",
       "</div>"
      ],
      "text/plain": [
       "          Cantidad  PrecioUnitario  total vendido\n",
       "Vendedor                                         \n",
       "Ana             10            1800           9000\n",
       "Carlos           6            1800           6000\n",
       "Luis             6            2000           6000\n",
       "Marta            8            1800           8400\n",
       "Sofía            4            1600           3200"
      ]
     },
     "execution_count": 21,
     "metadata": {},
     "output_type": "execute_result"
    }
   ],
   "source": [
    "df['total vendido'] = df['Cantidad']* df['PrecioUnitario']\n",
    "\n",
    "df.groupby(['Vendedor']).sum()\n",
    "\n",
    "#Solo para sumar el total vendido\n",
    "\n",
    "df.groupby(['Vendedor'])['total vendido'].sum()\n"
   ]
  },
  {
   "cell_type": "markdown",
   "id": "5467abfa",
   "metadata": {},
   "source": [
    "¿Qué producto tuvo el mayor total vendido?\n",
    "\n",
    "Usa .groupby() para calcular el total vendido por producto y determina cuál fue el que tuvo más ventas."
   ]
  },
  {
   "cell_type": "code",
   "execution_count": 24,
   "id": "9b06f84a",
   "metadata": {},
   "outputs": [
    {
     "data": {
      "text/plain": [
       "Producto\n",
       "Laptop        21600\n",
       "Smartphone     5600\n",
       "Tablet         5400\n",
       "Name: total vendido, dtype: int64"
      ]
     },
     "execution_count": 24,
     "metadata": {},
     "output_type": "execute_result"
    }
   ],
   "source": [
    "df.groupby(['Producto'])['total vendido'].sum()"
   ]
  },
  {
   "cell_type": "markdown",
   "id": "f87cfdc7",
   "metadata": {},
   "source": [
    "¿Qué vendedor vendió más de cada producto?\n",
    "\n",
    "Usa .groupby() para encontrar el vendedor que más vendió de cada producto."
   ]
  },
  {
   "cell_type": "code",
   "execution_count": 30,
   "id": "980f6e15",
   "metadata": {},
   "outputs": [
    {
     "data": {
      "text/plain": [
       "Vendedor  Producto  \n",
       "Marta     Laptop        7200\n",
       "Ana       Laptop        6000\n",
       "Carlos    Laptop        4800\n",
       "Luis      Laptop        3600\n",
       "Sofía     Smartphone    3200\n",
       "Ana       Tablet        3000\n",
       "Luis      Smartphone    2400\n",
       "Carlos    Tablet        1200\n",
       "Marta     Tablet        1200\n",
       "Name: total vendido, dtype: int64"
      ]
     },
     "execution_count": 30,
     "metadata": {},
     "output_type": "execute_result"
    }
   ],
   "source": [
    "df.groupby(['Vendedor','Producto'])['total vendido'].sum().sort_values(ascending=False)"
   ]
  },
  {
   "cell_type": "markdown",
   "id": "bfc93885",
   "metadata": {},
   "source": [
    "Nuevo ejercicio"
   ]
  },
  {
   "cell_type": "code",
   "execution_count": 2,
   "id": "4a69fcc9",
   "metadata": {},
   "outputs": [
    {
     "name": "stdout",
     "output_type": "stream",
     "text": [
      "  Estudiante      Materia  Nota\n",
      "0        Ana  Matemáticas    85\n",
      "1       Luis  Matemáticas    90\n",
      "2      Sofía  Matemáticas    95\n",
      "3       Luis     Historia    88\n",
      "4        Ana     Historia    92\n",
      "5      Sofía     Historia    84\n",
      "6       Luis     Ciencias    78\n",
      "7        Ana     Ciencias    89\n",
      "8      Sofía     Ciencias    91\n"
     ]
    }
   ],
   "source": [
    "import pandas as pd\n",
    "\n",
    "data = {\n",
    "    'Estudiante': ['Ana', 'Luis', 'Sofía', 'Luis', 'Ana', 'Sofía', 'Luis', 'Ana', 'Sofía'],\n",
    "    'Materia': ['Matemáticas', 'Matemáticas', 'Matemáticas', 'Historia', 'Historia', 'Historia', 'Ciencias', 'Ciencias', 'Ciencias'],\n",
    "    'Nota': [85, 90, 95, 88, 92, 84, 78, 89, 91]\n",
    "}\n",
    "\n",
    "df = pd.DataFrame(data)\n",
    "\n",
    "print(df)\n"
   ]
  },
  {
   "cell_type": "markdown",
   "id": "e23cb0ec",
   "metadata": {},
   "source": [
    "Calcula el promedio de notas por estudiante"
   ]
  },
  {
   "cell_type": "code",
   "execution_count": 7,
   "id": "9a830fde",
   "metadata": {},
   "outputs": [
    {
     "data": {
      "text/plain": [
       "Estudiante\n",
       "Ana      88.666667\n",
       "Luis     85.333333\n",
       "Sofía    90.000000\n",
       "Name: Nota, dtype: float64"
      ]
     },
     "execution_count": 7,
     "metadata": {},
     "output_type": "execute_result"
    }
   ],
   "source": [
    "df.groupby('Estudiante')['Nota'].mean()\n"
   ]
  },
  {
   "cell_type": "markdown",
   "id": "59894dfc",
   "metadata": {},
   "source": [
    "Calcula el promedio de notas por materia.\n",
    "\n"
   ]
  },
  {
   "cell_type": "code",
   "execution_count": 9,
   "id": "1465d5de",
   "metadata": {},
   "outputs": [
    {
     "data": {
      "text/plain": [
       "Materia\n",
       "Ciencias       86.0\n",
       "Historia       88.0\n",
       "Matemáticas    90.0\n",
       "Name: Nota, dtype: float64"
      ]
     },
     "execution_count": 9,
     "metadata": {},
     "output_type": "execute_result"
    }
   ],
   "source": [
    "df.groupby('Materia')['Nota'].mean()\n"
   ]
  },
  {
   "cell_type": "markdown",
   "id": "8e6759c4",
   "metadata": {},
   "source": [
    "Encuentra qué estudiante tiene el mayor promedio general.\n",
    "\n"
   ]
  },
  {
   "cell_type": "code",
   "execution_count": null,
   "id": "ea1a5aaf",
   "metadata": {},
   "outputs": [
    {
     "data": {
      "text/plain": [
       "'Sofía'"
      ]
     },
     "execution_count": 11,
     "metadata": {},
     "output_type": "execute_result"
    }
   ],
   "source": [
    "\n",
    "Max_nota= df.groupby('Estudiante')['Nota'].mean()\n",
    "\n",
    "Max_nota.idxmax()\n"
   ]
  },
  {
   "cell_type": "code",
   "execution_count": 16,
   "id": "8a5e4996",
   "metadata": {},
   "outputs": [
    {
     "data": {
      "text/plain": [
       "Estudiante\n",
       "Sofía    90.000000\n",
       "Ana      88.666667\n",
       "Luis     85.333333\n",
       "Name: Nota, dtype: float64"
      ]
     },
     "execution_count": 16,
     "metadata": {},
     "output_type": "execute_result"
    }
   ],
   "source": [
    "df.groupby('Estudiante')['Nota'].mean().sort_values(ascending=False)\n"
   ]
  }
 ],
 "metadata": {
  "kernelspec": {
   "display_name": "Python 3",
   "language": "python",
   "name": "python3"
  },
  "language_info": {
   "codemirror_mode": {
    "name": "ipython",
    "version": 3
   },
   "file_extension": ".py",
   "mimetype": "text/x-python",
   "name": "python",
   "nbconvert_exporter": "python",
   "pygments_lexer": "ipython3",
   "version": "3.9.13"
  }
 },
 "nbformat": 4,
 "nbformat_minor": 5
}
