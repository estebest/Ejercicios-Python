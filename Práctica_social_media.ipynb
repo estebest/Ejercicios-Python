{
 "cells": [
  {
   "cell_type": "code",
   "execution_count": 16,
   "id": "2204f9ca",
   "metadata": {},
   "outputs": [],
   "source": [
    "import pandas as pd\n",
    "import numpy as np\n",
    "import matplotlib.pyplot as plt\n",
    "import seaborn as sns\n"
   ]
  },
  {
   "cell_type": "code",
   "execution_count": 3,
   "id": "ae63803c",
   "metadata": {},
   "outputs": [
    {
     "name": "stdout",
     "output_type": "stream",
     "text": [
      "<class 'pandas.core.frame.DataFrame'>\n",
      "RangeIndex: 30000 entries, 0 to 29999\n",
      "Data columns (total 19 columns):\n",
      " #   Column                          Non-Null Count  Dtype  \n",
      "---  ------                          --------------  -----  \n",
      " 0   age                             30000 non-null  int64  \n",
      " 1   gender                          30000 non-null  object \n",
      " 2   job_type                        30000 non-null  object \n",
      " 3   daily_social_media_time         27235 non-null  float64\n",
      " 4   social_platform_preference      30000 non-null  object \n",
      " 5   number_of_notifications         30000 non-null  int64  \n",
      " 6   work_hours_per_day              30000 non-null  float64\n",
      " 7   perceived_productivity_score    28386 non-null  float64\n",
      " 8   actual_productivity_score       27635 non-null  float64\n",
      " 9   stress_level                    28096 non-null  float64\n",
      " 10  sleep_hours                     27402 non-null  float64\n",
      " 11  screen_time_before_sleep        27789 non-null  float64\n",
      " 12  breaks_during_work              30000 non-null  int64  \n",
      " 13  uses_focus_apps                 30000 non-null  bool   \n",
      " 14  has_digital_wellbeing_enabled   30000 non-null  bool   \n",
      " 15  coffee_consumption_per_day      30000 non-null  int64  \n",
      " 16  days_feeling_burnout_per_month  30000 non-null  int64  \n",
      " 17  weekly_offline_hours            30000 non-null  float64\n",
      " 18  job_satisfaction_score          27270 non-null  float64\n",
      "dtypes: bool(2), float64(9), int64(5), object(3)\n",
      "memory usage: 3.9+ MB\n"
     ]
    }
   ],
   "source": [
    "df= pd.read_csv('social_media_vs_productivity.csv')\n",
    "df.info()"
   ]
  },
  {
   "cell_type": "code",
   "execution_count": 12,
   "id": "d37a7a05",
   "metadata": {},
   "outputs": [
    {
     "data": {
      "application/vnd.microsoft.datawrangler.viewer.v0+json": {
       "columns": [
        {
         "name": "index",
         "rawType": "object",
         "type": "string"
        },
        {
         "name": "0",
         "rawType": "int64",
         "type": "integer"
        }
       ],
       "ref": "1e5536b4-660b-4bd8-ba26-460aefa225ab",
       "rows": [
        [
         "age",
         "0"
        ],
        [
         "gender",
         "0"
        ],
        [
         "job_type",
         "0"
        ],
        [
         "daily_social_media_time",
         "2765"
        ],
        [
         "social_platform_preference",
         "0"
        ],
        [
         "number_of_notifications",
         "0"
        ],
        [
         "work_hours_per_day",
         "0"
        ],
        [
         "perceived_productivity_score",
         "1614"
        ],
        [
         "actual_productivity_score",
         "2365"
        ],
        [
         "stress_level",
         "1904"
        ],
        [
         "sleep_hours",
         "2598"
        ],
        [
         "screen_time_before_sleep",
         "2211"
        ],
        [
         "breaks_during_work",
         "0"
        ],
        [
         "uses_focus_apps",
         "0"
        ],
        [
         "has_digital_wellbeing_enabled",
         "0"
        ],
        [
         "coffee_consumption_per_day",
         "0"
        ],
        [
         "days_feeling_burnout_per_month",
         "0"
        ],
        [
         "weekly_offline_hours",
         "0"
        ],
        [
         "job_satisfaction_score",
         "2730"
        ]
       ],
       "shape": {
        "columns": 1,
        "rows": 19
       }
      },
      "text/plain": [
       "age                                  0\n",
       "gender                               0\n",
       "job_type                             0\n",
       "daily_social_media_time           2765\n",
       "social_platform_preference           0\n",
       "number_of_notifications              0\n",
       "work_hours_per_day                   0\n",
       "perceived_productivity_score      1614\n",
       "actual_productivity_score         2365\n",
       "stress_level                      1904\n",
       "sleep_hours                       2598\n",
       "screen_time_before_sleep          2211\n",
       "breaks_during_work                   0\n",
       "uses_focus_apps                      0\n",
       "has_digital_wellbeing_enabled        0\n",
       "coffee_consumption_per_day           0\n",
       "days_feeling_burnout_per_month       0\n",
       "weekly_offline_hours                 0\n",
       "job_satisfaction_score            2730\n",
       "dtype: int64"
      ]
     },
     "execution_count": 12,
     "metadata": {},
     "output_type": "execute_result"
    }
   ],
   "source": [
    "df.isnull().sum()"
   ]
  },
  {
   "cell_type": "code",
   "execution_count": null,
   "id": "fca628aa",
   "metadata": {},
   "outputs": [
    {
     "name": "stdout",
     "output_type": "stream",
     "text": [
      "<class 'pandas.core.frame.DataFrame'>\n",
      "RangeIndex: 30000 entries, 0 to 29999\n",
      "Data columns (total 19 columns):\n",
      " #   Column                          Non-Null Count  Dtype  \n",
      "---  ------                          --------------  -----  \n",
      " 0   age                             30000 non-null  int64  \n",
      " 1   gender                          30000 non-null  object \n",
      " 2   job_type                        30000 non-null  object \n",
      " 3   daily_social_media_time         27235 non-null  float64\n",
      " 4   social_platform_preference      30000 non-null  object \n",
      " 5   number_of_notifications         30000 non-null  int64  \n",
      " 6   work_hours_per_day              30000 non-null  float64\n",
      " 7   perceived_productivity_score    28386 non-null  float64\n",
      " 8   actual_productivity_score       27635 non-null  float64\n",
      " 9   stress_level                    28096 non-null  float64\n",
      " 10  sleep_hours                     27402 non-null  float64\n",
      " 11  screen_time_before_sleep        27789 non-null  float64\n",
      " 12  breaks_during_work              30000 non-null  int64  \n",
      " 13  uses_focus_apps                 30000 non-null  bool   \n",
      " 14  has_digital_wellbeing_enabled   30000 non-null  bool   \n",
      " 15  coffee_consumption_per_day      30000 non-null  int64  \n",
      " 16  days_feeling_burnout_per_month  30000 non-null  int64  \n",
      " 17  weekly_offline_hours            30000 non-null  float64\n",
      " 18  job_satisfaction_score          27270 non-null  float64\n",
      "dtypes: bool(2), float64(9), int64(5), object(3)\n",
      "memory usage: 3.9+ MB\n"
     ]
    }
   ],
   "source": [
    "df['gender']= df['gender'].astype('str')\n",
    "df['gender']=  df['gender'].str.capitalize()\n",
    "\n",
    "df.info()"
   ]
  },
  {
   "cell_type": "code",
   "execution_count": 23,
   "id": "8cf7f656",
   "metadata": {},
   "outputs": [
    {
     "data": {
      "text/plain": [
       "array(['Unemployed', 'Health', 'Finance', 'IT', 'Education', 'Student'],\n",
       "      dtype=object)"
      ]
     },
     "execution_count": 23,
     "metadata": {},
     "output_type": "execute_result"
    }
   ],
   "source": [
    "df['gender'].str.contains(' ').sum()\n",
    "\n",
    "df['gender'].unique()\n",
    "\n",
    "df['job_type'].unique()"
   ]
  },
  {
   "cell_type": "code",
   "execution_count": 9,
   "id": "672c0e3e",
   "metadata": {},
   "outputs": [
    {
     "data": {
      "application/vnd.microsoft.datawrangler.viewer.v0+json": {
       "columns": [
        {
         "name": "gender",
         "rawType": "object",
         "type": "string"
        },
        {
         "name": "Education",
         "rawType": "int64",
         "type": "integer"
        },
        {
         "name": "Finance",
         "rawType": "int64",
         "type": "integer"
        },
        {
         "name": "Health",
         "rawType": "int64",
         "type": "integer"
        },
        {
         "name": "IT",
         "rawType": "int64",
         "type": "integer"
        },
        {
         "name": "Student",
         "rawType": "int64",
         "type": "integer"
        },
        {
         "name": "Unemployed",
         "rawType": "int64",
         "type": "integer"
        }
       ],
       "ref": "bff0cd0d-99e1-4dd6-b60f-e367927ffa61",
       "rows": [
        [
         "Female",
         "2189",
         "2187",
         "2123",
         "2153",
         "2216",
         "2161"
        ],
        [
         "Male",
         "2218",
         "2180",
         "2190",
         "2203",
         "2168",
         "2168"
        ],
        [
         "Other",
         "184",
         "179",
         "167",
         "186",
         "188",
         "175"
        ]
       ],
       "shape": {
        "columns": 6,
        "rows": 3
       }
      },
      "text/html": [
       "<div>\n",
       "<style scoped>\n",
       "    .dataframe tbody tr th:only-of-type {\n",
       "        vertical-align: middle;\n",
       "    }\n",
       "\n",
       "    .dataframe tbody tr th {\n",
       "        vertical-align: top;\n",
       "    }\n",
       "\n",
       "    .dataframe thead th {\n",
       "        text-align: right;\n",
       "    }\n",
       "</style>\n",
       "<table border=\"1\" class=\"dataframe\">\n",
       "  <thead>\n",
       "    <tr style=\"text-align: right;\">\n",
       "      <th>job_type</th>\n",
       "      <th>Education</th>\n",
       "      <th>Finance</th>\n",
       "      <th>Health</th>\n",
       "      <th>IT</th>\n",
       "      <th>Student</th>\n",
       "      <th>Unemployed</th>\n",
       "    </tr>\n",
       "    <tr>\n",
       "      <th>gender</th>\n",
       "      <th></th>\n",
       "      <th></th>\n",
       "      <th></th>\n",
       "      <th></th>\n",
       "      <th></th>\n",
       "      <th></th>\n",
       "    </tr>\n",
       "  </thead>\n",
       "  <tbody>\n",
       "    <tr>\n",
       "      <th>Female</th>\n",
       "      <td>2189</td>\n",
       "      <td>2187</td>\n",
       "      <td>2123</td>\n",
       "      <td>2153</td>\n",
       "      <td>2216</td>\n",
       "      <td>2161</td>\n",
       "    </tr>\n",
       "    <tr>\n",
       "      <th>Male</th>\n",
       "      <td>2218</td>\n",
       "      <td>2180</td>\n",
       "      <td>2190</td>\n",
       "      <td>2203</td>\n",
       "      <td>2168</td>\n",
       "      <td>2168</td>\n",
       "    </tr>\n",
       "    <tr>\n",
       "      <th>Other</th>\n",
       "      <td>184</td>\n",
       "      <td>179</td>\n",
       "      <td>167</td>\n",
       "      <td>186</td>\n",
       "      <td>188</td>\n",
       "      <td>175</td>\n",
       "    </tr>\n",
       "  </tbody>\n",
       "</table>\n",
       "</div>"
      ],
      "text/plain": [
       "job_type  Education  Finance  Health    IT  Student  Unemployed\n",
       "gender                                                         \n",
       "Female         2189     2187    2123  2153     2216        2161\n",
       "Male           2218     2180    2190  2203     2168        2168\n",
       "Other           184      179     167   186      188         175"
      ]
     },
     "execution_count": 9,
     "metadata": {},
     "output_type": "execute_result"
    }
   ],
   "source": [
    "df.pivot_table(values= 'daily_social_media_time', index='gender', columns='job_type', aggfunc= 'count' ).round(2)"
   ]
  },
  {
   "cell_type": "code",
   "execution_count": 12,
   "id": "5dccb6f4",
   "metadata": {},
   "outputs": [
    {
     "data": {
      "application/vnd.microsoft.datawrangler.viewer.v0+json": {
       "columns": [
        {
         "name": "tiempo_redes",
         "rawType": "object",
         "type": "string"
        },
        {
         "name": "count",
         "rawType": "int64",
         "type": "integer"
        }
       ],
       "ref": "6704d387-fe69-4e16-93a2-6b2ff68897c8",
       "rows": [
        [
         "Medio",
         "14423"
        ],
        [
         "Bajo",
         "11194"
        ],
        [
         "Alto",
         "4383"
        ]
       ],
       "shape": {
        "columns": 1,
        "rows": 3
       }
      },
      "text/plain": [
       "tiempo_redes\n",
       "Medio    14423\n",
       "Bajo     11194\n",
       "Alto      4383\n",
       "Name: count, dtype: int64"
      ]
     },
     "execution_count": 12,
     "metadata": {},
     "output_type": "execute_result"
    }
   ],
   "source": [
    "def tiempo_redes (tiempo):\n",
    "    if tiempo > 5:\n",
    "        return 'Alto'\n",
    "    elif tiempo >= 2:\n",
    "        return 'Medio'\n",
    "    else:\n",
    "        return 'Bajo'\n",
    "    \n",
    "df['tiempo_redes']= df['daily_social_media_time'].apply(tiempo_redes)\n",
    "\n",
    "df['tiempo_redes'].value_counts()"
   ]
  },
  {
   "cell_type": "code",
   "execution_count": 21,
   "id": "7b7ea53c",
   "metadata": {},
   "outputs": [
    {
     "data": {
      "image/png": "[encoded data removed]",
      "text/plain": [
       "<Figure size 800x500 with 1 Axes>"
      ]
     },
     "metadata": {},
     "output_type": "display_data"
    }
   ],
   "source": [
    "# intento de gráfico de barras\n",
    "\n",
    "tiempo_redes= df['tiempo_redes'].value_counts()\n",
    "\n",
    "sns.set(style='whitegrid')\n",
    "\n",
    "plt.figure(figsize=(8, 5))\n",
    "colors = ['#66c2a5', '#fc8d62', '#8da0cb']\n",
    "\n",
    "bars= plt.bar(tiempo_redes.index, tiempo_redes.values, color=colors, edgecolor= 'black')\n",
    "\n",
    "for bar in bars:\n",
    "    yval = bar.get_height()\n",
    "    plt.text(bar.get_x() + bar.get_width()/2, yval + 0.5, int(yval),\n",
    "             ha='center', va='bottom', fontsize=11)\n",
    "    \n",
    "# Títulos y etiquetas\n",
    "plt.title('Uso diario de redes sociales (categorías)', fontsize=14, fontweight='bold')\n",
    "plt.xlabel('Nivel de uso', fontsize=12)\n",
    "plt.ylabel('Cantidad de personas', fontsize=12)\n",
    "\n",
    "# Ajustar márgenes\n",
    "plt.tight_layout()"
   ]
  }
 ],
 "metadata": {
  "kernelspec": {
   "display_name": "Python 3",
   "language": "python",
   "name": "python3"
  },
  "language_info": {
   "codemirror_mode": {
    "name": "ipython",
    "version": 3
   },
   "file_extension": ".py",
   "mimetype": "text/x-python",
   "name": "python",
   "nbconvert_exporter": "python",
   "pygments_lexer": "ipython3",
   "version": "3.13.3"
  }
 },
 "nbformat": 4,
 "nbformat_minor": 5
}
