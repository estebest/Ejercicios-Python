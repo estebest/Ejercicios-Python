{
 "cells": [
  {
   "cell_type": "markdown",
   "id": "29105a9c",
   "metadata": {},
   "source": [
    "Usar pivot_table"
   ]
  },
  {
   "cell_type": "code",
   "execution_count": 2,
   "id": "0bf2c6dd",
   "metadata": {},
   "outputs": [],
   "source": [
    "import pandas as pd\n",
    "import numpy as np"
   ]
  },
  {
   "cell_type": "code",
   "execution_count": 3,
   "id": "4972885e",
   "metadata": {},
   "outputs": [],
   "source": [
    "data = {\n",
    "    'Vendedor': ['Ana', 'Luis', 'Ana', 'Luis', 'Sofía', 'Sofía'],\n",
    "    'Mes': ['Ene', 'Ene', 'Feb', 'Feb', 'Ene', 'Feb'],\n",
    "    'Ventas': [200, 150, 300, 220, 180, 210]\n",
    "}\n",
    "\n",
    "df = pd.DataFrame(data)\n"
   ]
  },
  {
   "cell_type": "markdown",
   "id": "7f5bc41f",
   "metadata": {},
   "source": [
    "Para la estructura, es necesario definir el data frame, los valores, y cómo se construye la tabla. aggfun ayuda mucho a agregar la operación"
   ]
  },
  {
   "cell_type": "code",
   "execution_count": 7,
   "id": "a28502cf",
   "metadata": {},
   "outputs": [
    {
     "data": {
      "application/vnd.microsoft.datawrangler.viewer.v0+json": {
       "columns": [
        {
         "name": "Vendedor",
         "rawType": "object",
         "type": "string"
        },
        {
         "name": "Ene",
         "rawType": "int64",
         "type": "integer"
        },
        {
         "name": "Feb",
         "rawType": "int64",
         "type": "integer"
        }
       ],
       "conversionMethod": "pd.DataFrame",
       "ref": "daacab4e-c9e0-46ac-a04b-eace38bc52a1",
       "rows": [
        [
         "Ana",
         "200",
         "300"
        ],
        [
         "Luis",
         "150",
         "220"
        ],
        [
         "Sofía",
         "180",
         "210"
        ]
       ],
       "shape": {
        "columns": 2,
        "rows": 3
       }
      },
      "text/html": [
       "<div>\n",
       "<style scoped>\n",
       "    .dataframe tbody tr th:only-of-type {\n",
       "        vertical-align: middle;\n",
       "    }\n",
       "\n",
       "    .dataframe tbody tr th {\n",
       "        vertical-align: top;\n",
       "    }\n",
       "\n",
       "    .dataframe thead th {\n",
       "        text-align: right;\n",
       "    }\n",
       "</style>\n",
       "<table border=\"1\" class=\"dataframe\">\n",
       "  <thead>\n",
       "    <tr style=\"text-align: right;\">\n",
       "      <th>Mes</th>\n",
       "      <th>Ene</th>\n",
       "      <th>Feb</th>\n",
       "    </tr>\n",
       "    <tr>\n",
       "      <th>Vendedor</th>\n",
       "      <th></th>\n",
       "      <th></th>\n",
       "    </tr>\n",
       "  </thead>\n",
       "  <tbody>\n",
       "    <tr>\n",
       "      <th>Ana</th>\n",
       "      <td>200</td>\n",
       "      <td>300</td>\n",
       "    </tr>\n",
       "    <tr>\n",
       "      <th>Luis</th>\n",
       "      <td>150</td>\n",
       "      <td>220</td>\n",
       "    </tr>\n",
       "    <tr>\n",
       "      <th>Sofía</th>\n",
       "      <td>180</td>\n",
       "      <td>210</td>\n",
       "    </tr>\n",
       "  </tbody>\n",
       "</table>\n",
       "</div>"
      ],
      "text/plain": [
       "Mes       Ene  Feb\n",
       "Vendedor          \n",
       "Ana       200  300\n",
       "Luis      150  220\n",
       "Sofía     180  210"
      ]
     },
     "execution_count": 7,
     "metadata": {},
     "output_type": "execute_result"
    }
   ],
   "source": [
    "pd.pivot_table(df, values='Ventas', columns='Mes', index= 'Vendedor', aggfunc= sum)"
   ]
  },
  {
   "cell_type": "markdown",
   "id": "c0fbc502",
   "metadata": {},
   "source": [
    "Merge:\n",
    "\n",
    "FUnciona para hacer combinaciones entre dos o más dataframes"
   ]
  },
  {
   "cell_type": "code",
   "execution_count": 8,
   "id": "2c8baf33",
   "metadata": {},
   "outputs": [],
   "source": [
    "# Tabla de estudiantes\n",
    "estudiantes = pd.DataFrame({\n",
    "    'ID': [1, 2, 3],\n",
    "    'Nombre': ['Ana', 'Luis', 'Sofía']\n",
    "})\n",
    "\n",
    "# Tabla de notas\n",
    "notas = pd.DataFrame({\n",
    "    'ID': [1, 2, 4],\n",
    "    'Nota': [90, 85, 78]\n",
    "})"
   ]
  },
  {
   "cell_type": "code",
   "execution_count": 10,
   "id": "a3c46cc2",
   "metadata": {},
   "outputs": [
    {
     "data": {
      "application/vnd.microsoft.datawrangler.viewer.v0+json": {
       "columns": [
        {
         "name": "index",
         "rawType": "int64",
         "type": "integer"
        },
        {
         "name": "ID",
         "rawType": "int64",
         "type": "integer"
        },
        {
         "name": "Nombre",
         "rawType": "object",
         "type": "string"
        },
        {
         "name": "Nota",
         "rawType": "float64",
         "type": "float"
        }
       ],
       "conversionMethod": "pd.DataFrame",
       "ref": "43ceb20a-b021-49a8-8e89-ff6616a52e0b",
       "rows": [
        [
         "0",
         "1",
         "Ana",
         "90.0"
        ],
        [
         "1",
         "2",
         "Luis",
         "85.0"
        ],
        [
         "2",
         "3",
         "Sofía",
         null
        ],
        [
         "3",
         "4",
         null,
         "78.0"
        ]
       ],
       "shape": {
        "columns": 3,
        "rows": 4
       }
      },
      "text/html": [
       "<div>\n",
       "<style scoped>\n",
       "    .dataframe tbody tr th:only-of-type {\n",
       "        vertical-align: middle;\n",
       "    }\n",
       "\n",
       "    .dataframe tbody tr th {\n",
       "        vertical-align: top;\n",
       "    }\n",
       "\n",
       "    .dataframe thead th {\n",
       "        text-align: right;\n",
       "    }\n",
       "</style>\n",
       "<table border=\"1\" class=\"dataframe\">\n",
       "  <thead>\n",
       "    <tr style=\"text-align: right;\">\n",
       "      <th></th>\n",
       "      <th>ID</th>\n",
       "      <th>Nombre</th>\n",
       "      <th>Nota</th>\n",
       "    </tr>\n",
       "  </thead>\n",
       "  <tbody>\n",
       "    <tr>\n",
       "      <th>0</th>\n",
       "      <td>1</td>\n",
       "      <td>Ana</td>\n",
       "      <td>90.0</td>\n",
       "    </tr>\n",
       "    <tr>\n",
       "      <th>1</th>\n",
       "      <td>2</td>\n",
       "      <td>Luis</td>\n",
       "      <td>85.0</td>\n",
       "    </tr>\n",
       "    <tr>\n",
       "      <th>2</th>\n",
       "      <td>3</td>\n",
       "      <td>Sofía</td>\n",
       "      <td>NaN</td>\n",
       "    </tr>\n",
       "    <tr>\n",
       "      <th>3</th>\n",
       "      <td>4</td>\n",
       "      <td>NaN</td>\n",
       "      <td>78.0</td>\n",
       "    </tr>\n",
       "  </tbody>\n",
       "</table>\n",
       "</div>"
      ],
      "text/plain": [
       "   ID Nombre  Nota\n",
       "0   1    Ana  90.0\n",
       "1   2   Luis  85.0\n",
       "2   3  Sofía   NaN\n",
       "3   4    NaN  78.0"
      ]
     },
     "execution_count": 10,
     "metadata": {},
     "output_type": "execute_result"
    }
   ],
   "source": [
    "# Unir las notas con los nombres\n",
    "\n",
    "estudiantes.merge(right= notas, how='outer', on='ID')"
   ]
  },
  {
   "cell_type": "markdown",
   "id": "3c4dd12d",
   "metadata": {},
   "source": [
    "Ejercicio pandas"
   ]
  },
  {
   "cell_type": "code",
   "execution_count": 4,
   "id": "11e4fc22",
   "metadata": {},
   "outputs": [],
   "source": [
    "import pandas as pd\n",
    "\n",
    "data = {\n",
    "    'Estudiante': ['Ana', 'Luis', 'Carlos', 'Ana', 'Luis', 'Carlos', 'Ana', 'Luis', 'Carlos'],\n",
    "    'Materia': ['Matemáticas', 'Matemáticas', 'Matemáticas',\n",
    "                'Historia', 'Historia', 'Historia',\n",
    "                'Biología', 'Biología', 'Biología'],\n",
    "    'Nota': [85, 78, 92, 88, 80, 79, 90, 75, 95],\n",
    "    'Año': [2023, 2023, 2023, 2023, 2023, 2023, 2024, 2024, 2024]\n",
    "}\n",
    "\n",
    "df = pd.DataFrame(data)\n"
   ]
  },
  {
   "cell_type": "code",
   "execution_count": 7,
   "id": "557b8347",
   "metadata": {},
   "outputs": [
    {
     "data": {
      "application/vnd.microsoft.datawrangler.viewer.v0+json": {
       "columns": [
        {
         "name": "Estudiante",
         "rawType": "object",
         "type": "string"
        },
        {
         "name": "2023",
         "rawType": "float64",
         "type": "float"
        },
        {
         "name": "2024",
         "rawType": "float64",
         "type": "float"
        }
       ],
       "conversionMethod": "pd.DataFrame",
       "ref": "3c25fecb-4c0c-4f1d-a96a-d799e3b8b4ae",
       "rows": [
        [
         "Ana",
         "86.5",
         "90.0"
        ],
        [
         "Carlos",
         "85.5",
         "95.0"
        ],
        [
         "Luis",
         "79.0",
         "75.0"
        ]
       ],
       "shape": {
        "columns": 2,
        "rows": 3
       }
      },
      "text/html": [
       "<div>\n",
       "<style scoped>\n",
       "    .dataframe tbody tr th:only-of-type {\n",
       "        vertical-align: middle;\n",
       "    }\n",
       "\n",
       "    .dataframe tbody tr th {\n",
       "        vertical-align: top;\n",
       "    }\n",
       "\n",
       "    .dataframe thead th {\n",
       "        text-align: right;\n",
       "    }\n",
       "</style>\n",
       "<table border=\"1\" class=\"dataframe\">\n",
       "  <thead>\n",
       "    <tr style=\"text-align: right;\">\n",
       "      <th>Año</th>\n",
       "      <th>2023</th>\n",
       "      <th>2024</th>\n",
       "    </tr>\n",
       "    <tr>\n",
       "      <th>Estudiante</th>\n",
       "      <th></th>\n",
       "      <th></th>\n",
       "    </tr>\n",
       "  </thead>\n",
       "  <tbody>\n",
       "    <tr>\n",
       "      <th>Ana</th>\n",
       "      <td>86.5</td>\n",
       "      <td>90.0</td>\n",
       "    </tr>\n",
       "    <tr>\n",
       "      <th>Carlos</th>\n",
       "      <td>85.5</td>\n",
       "      <td>95.0</td>\n",
       "    </tr>\n",
       "    <tr>\n",
       "      <th>Luis</th>\n",
       "      <td>79.0</td>\n",
       "      <td>75.0</td>\n",
       "    </tr>\n",
       "  </tbody>\n",
       "</table>\n",
       "</div>"
      ],
      "text/plain": [
       "Año         2023  2024\n",
       "Estudiante            \n",
       "Ana         86.5  90.0\n",
       "Carlos      85.5  95.0\n",
       "Luis        79.0  75.0"
      ]
     },
     "execution_count": 7,
     "metadata": {},
     "output_type": "execute_result"
    }
   ],
   "source": [
    "# Crear tabla que traiga la media\n",
    "\n",
    "pd.pivot_table(df, values='Nota',index='Estudiante',columns='Año',aggfunc= 'mean' )"
   ]
  },
  {
   "cell_type": "code",
   "execution_count": 8,
   "id": "527e12fa",
   "metadata": {},
   "outputs": [],
   "source": [
    "#Une los datos para que cada empleado tenga el nombre de su departamento.\n",
    "\n",
    "#¿Qué pasa si haces un merge con how='left' y how='right'?\n",
    "\n",
    "empleados = pd.DataFrame({\n",
    "    'EmpleadoID': [1, 2, 3, 4],\n",
    "    'Nombre': ['Ana', 'Luis', 'Carlos', 'Sofía'],\n",
    "    'DepartamentoID': [10, 20, 10, 30]\n",
    "})\n",
    "\n",
    "departamentos = pd.DataFrame({\n",
    "    'DepartamentoID': [10, 20, 30],\n",
    "    'NombreDepartamento': ['Ventas', 'Marketing', 'TI']\n",
    "})\n"
   ]
  },
  {
   "cell_type": "code",
   "execution_count": 12,
   "id": "f175c406",
   "metadata": {},
   "outputs": [
    {
     "data": {
      "application/vnd.microsoft.datawrangler.viewer.v0+json": {
       "columns": [
        {
         "name": "index",
         "rawType": "int64",
         "type": "integer"
        },
        {
         "name": "EmpleadoID",
         "rawType": "int64",
         "type": "integer"
        },
        {
         "name": "Nombre",
         "rawType": "object",
         "type": "string"
        },
        {
         "name": "DepartamentoID",
         "rawType": "int64",
         "type": "integer"
        },
        {
         "name": "NombreDepartamento",
         "rawType": "object",
         "type": "string"
        }
       ],
       "conversionMethod": "pd.DataFrame",
       "ref": "1c52328e-9ba0-419e-a215-cc35ab3bad16",
       "rows": [
        [
         "0",
         "1",
         "Ana",
         "10",
         "Ventas"
        ],
        [
         "1",
         "3",
         "Carlos",
         "10",
         "Ventas"
        ],
        [
         "2",
         "2",
         "Luis",
         "20",
         "Marketing"
        ],
        [
         "3",
         "4",
         "Sofía",
         "30",
         "TI"
        ]
       ],
       "shape": {
        "columns": 4,
        "rows": 4
       }
      },
      "text/html": [
       "<div>\n",
       "<style scoped>\n",
       "    .dataframe tbody tr th:only-of-type {\n",
       "        vertical-align: middle;\n",
       "    }\n",
       "\n",
       "    .dataframe tbody tr th {\n",
       "        vertical-align: top;\n",
       "    }\n",
       "\n",
       "    .dataframe thead th {\n",
       "        text-align: right;\n",
       "    }\n",
       "</style>\n",
       "<table border=\"1\" class=\"dataframe\">\n",
       "  <thead>\n",
       "    <tr style=\"text-align: right;\">\n",
       "      <th></th>\n",
       "      <th>EmpleadoID</th>\n",
       "      <th>Nombre</th>\n",
       "      <th>DepartamentoID</th>\n",
       "      <th>NombreDepartamento</th>\n",
       "    </tr>\n",
       "  </thead>\n",
       "  <tbody>\n",
       "    <tr>\n",
       "      <th>0</th>\n",
       "      <td>1</td>\n",
       "      <td>Ana</td>\n",
       "      <td>10</td>\n",
       "      <td>Ventas</td>\n",
       "    </tr>\n",
       "    <tr>\n",
       "      <th>1</th>\n",
       "      <td>3</td>\n",
       "      <td>Carlos</td>\n",
       "      <td>10</td>\n",
       "      <td>Ventas</td>\n",
       "    </tr>\n",
       "    <tr>\n",
       "      <th>2</th>\n",
       "      <td>2</td>\n",
       "      <td>Luis</td>\n",
       "      <td>20</td>\n",
       "      <td>Marketing</td>\n",
       "    </tr>\n",
       "    <tr>\n",
       "      <th>3</th>\n",
       "      <td>4</td>\n",
       "      <td>Sofía</td>\n",
       "      <td>30</td>\n",
       "      <td>TI</td>\n",
       "    </tr>\n",
       "  </tbody>\n",
       "</table>\n",
       "</div>"
      ],
      "text/plain": [
       "   EmpleadoID  Nombre  DepartamentoID NombreDepartamento\n",
       "0           1     Ana              10             Ventas\n",
       "1           3  Carlos              10             Ventas\n",
       "2           2    Luis              20          Marketing\n",
       "3           4   Sofía              30                 TI"
      ]
     },
     "execution_count": 12,
     "metadata": {},
     "output_type": "execute_result"
    }
   ],
   "source": [
    "empleados.merge(departamentos, how= 'right', on='DepartamentoID')"
   ]
  },
  {
   "cell_type": "code",
   "execution_count": 14,
   "id": "643d1a7d",
   "metadata": {},
   "outputs": [],
   "source": [
    "#ejercicio 2\n",
    "\n",
    "#Crea una columna nueva llamada Total que sea Cantidad * PrecioUnitario.\n",
    "\n",
    "#Agrupa por ClienteID y calcula cuánto ha gastado cada cliente.\n",
    "\n",
    "facturas = pd.DataFrame({\n",
    "    'FacturaID': [1, 2, 3, 4],\n",
    "    'ClienteID': [100, 101, 100, 103],\n",
    "    'ProductoID': [501, 502, 501, 503],\n",
    "    'Cantidad': [2, 1, 5, 3]\n",
    "})\n",
    "\n",
    "productos = pd.DataFrame({\n",
    "    'ProductoID': [501, 502, 503],\n",
    "    'NombreProducto': ['Teclado', 'Ratón', 'Monitor'],\n",
    "    'PrecioUnitario': [20.0, 15.0, 150.0]\n",
    "})"
   ]
  },
  {
   "cell_type": "code",
   "execution_count": null,
   "id": "f6fb874f",
   "metadata": {},
   "outputs": [
    {
     "data": {
      "application/vnd.microsoft.datawrangler.viewer.v0+json": {
       "columns": [
        {
         "name": "index",
         "rawType": "int64",
         "type": "integer"
        },
        {
         "name": "FacturaID",
         "rawType": "int64",
         "type": "integer"
        },
        {
         "name": "ClienteID",
         "rawType": "int64",
         "type": "integer"
        },
        {
         "name": "ProductoID",
         "rawType": "int64",
         "type": "integer"
        },
        {
         "name": "Cantidad",
         "rawType": "int64",
         "type": "integer"
        },
        {
         "name": "NombreProducto",
         "rawType": "object",
         "type": "string"
        },
        {
         "name": "PrecioUnitario",
         "rawType": "float64",
         "type": "float"
        },
        {
         "name": "Can_precio",
         "rawType": "float64",
         "type": "float"
        }
       ],
       "conversionMethod": "pd.DataFrame",
       "ref": "122a93c1-af63-49ef-9578-9ff44a120581",
       "rows": [
        [
         "0",
         "1",
         "100",
         "501",
         "2",
         "Teclado",
         "20.0",
         "40.0"
        ],
        [
         "1",
         "2",
         "101",
         "502",
         "1",
         "Ratón",
         "15.0",
         "15.0"
        ],
        [
         "2",
         "3",
         "100",
         "501",
         "5",
         "Teclado",
         "20.0",
         "100.0"
        ],
        [
         "3",
         "4",
         "103",
         "503",
         "3",
         "Monitor",
         "150.0",
         "450.0"
        ]
       ],
       "shape": {
        "columns": 7,
        "rows": 4
       }
      },
      "text/html": [
       "<div>\n",
       "<style scoped>\n",
       "    .dataframe tbody tr th:only-of-type {\n",
       "        vertical-align: middle;\n",
       "    }\n",
       "\n",
       "    .dataframe tbody tr th {\n",
       "        vertical-align: top;\n",
       "    }\n",
       "\n",
       "    .dataframe thead th {\n",
       "        text-align: right;\n",
       "    }\n",
       "</style>\n",
       "<table border=\"1\" class=\"dataframe\">\n",
       "  <thead>\n",
       "    <tr style=\"text-align: right;\">\n",
       "      <th></th>\n",
       "      <th>FacturaID</th>\n",
       "      <th>ClienteID</th>\n",
       "      <th>ProductoID</th>\n",
       "      <th>Cantidad</th>\n",
       "      <th>NombreProducto</th>\n",
       "      <th>PrecioUnitario</th>\n",
       "      <th>Can_precio</th>\n",
       "    </tr>\n",
       "  </thead>\n",
       "  <tbody>\n",
       "    <tr>\n",
       "      <th>0</th>\n",
       "      <td>1</td>\n",
       "      <td>100</td>\n",
       "      <td>501</td>\n",
       "      <td>2</td>\n",
       "      <td>Teclado</td>\n",
       "      <td>20.0</td>\n",
       "      <td>40.0</td>\n",
       "    </tr>\n",
       "    <tr>\n",
       "      <th>1</th>\n",
       "      <td>2</td>\n",
       "      <td>101</td>\n",
       "      <td>502</td>\n",
       "      <td>1</td>\n",
       "      <td>Ratón</td>\n",
       "      <td>15.0</td>\n",
       "      <td>15.0</td>\n",
       "    </tr>\n",
       "    <tr>\n",
       "      <th>2</th>\n",
       "      <td>3</td>\n",
       "      <td>100</td>\n",
       "      <td>501</td>\n",
       "      <td>5</td>\n",
       "      <td>Teclado</td>\n",
       "      <td>20.0</td>\n",
       "      <td>100.0</td>\n",
       "    </tr>\n",
       "    <tr>\n",
       "      <th>3</th>\n",
       "      <td>4</td>\n",
       "      <td>103</td>\n",
       "      <td>503</td>\n",
       "      <td>3</td>\n",
       "      <td>Monitor</td>\n",
       "      <td>150.0</td>\n",
       "      <td>450.0</td>\n",
       "    </tr>\n",
       "  </tbody>\n",
       "</table>\n",
       "</div>"
      ],
      "text/plain": [
       "   FacturaID  ClienteID  ProductoID  Cantidad NombreProducto  PrecioUnitario  \\\n",
       "0          1        100         501         2        Teclado            20.0   \n",
       "1          2        101         502         1          Ratón            15.0   \n",
       "2          3        100         501         5        Teclado            20.0   \n",
       "3          4        103         503         3        Monitor           150.0   \n",
       "\n",
       "   Can_precio  \n",
       "0        40.0  \n",
       "1        15.0  \n",
       "2       100.0  \n",
       "3       450.0  "
      ]
     },
     "execution_count": 19,
     "metadata": {},
     "output_type": "execute_result"
    }
   ],
   "source": [
    "#Combina los dos DataFrames.\n",
    "\n",
    "facturas.merge(productos, how='inner', on='ProductoID').assign(\n",
    "    Can_precio=lambda df:  df['Cantidad'] * df['PrecioUnitario'] )"
   ]
  },
  {
   "cell_type": "code",
   "execution_count": 23,
   "id": "1b0d7032",
   "metadata": {},
   "outputs": [
    {
     "data": {
      "application/vnd.microsoft.datawrangler.viewer.v0+json": {
       "columns": [
        {
         "name": "index",
         "rawType": "int64",
         "type": "integer"
        },
        {
         "name": "ClienteID",
         "rawType": "int64",
         "type": "integer"
        },
        {
         "name": "Total",
         "rawType": "float64",
         "type": "float"
        }
       ],
       "conversionMethod": "pd.DataFrame",
       "ref": "5df203a4-2fb1-4d88-982e-ff3d445ccd6e",
       "rows": [
        [
         "2",
         "103",
         "450.0"
        ],
        [
         "0",
         "100",
         "140.0"
        ],
        [
         "1",
         "101",
         "15.0"
        ]
       ],
       "shape": {
        "columns": 2,
        "rows": 3
       }
      },
      "text/html": [
       "<div>\n",
       "<style scoped>\n",
       "    .dataframe tbody tr th:only-of-type {\n",
       "        vertical-align: middle;\n",
       "    }\n",
       "\n",
       "    .dataframe tbody tr th {\n",
       "        vertical-align: top;\n",
       "    }\n",
       "\n",
       "    .dataframe thead th {\n",
       "        text-align: right;\n",
       "    }\n",
       "</style>\n",
       "<table border=\"1\" class=\"dataframe\">\n",
       "  <thead>\n",
       "    <tr style=\"text-align: right;\">\n",
       "      <th></th>\n",
       "      <th>ClienteID</th>\n",
       "      <th>Total</th>\n",
       "    </tr>\n",
       "  </thead>\n",
       "  <tbody>\n",
       "    <tr>\n",
       "      <th>2</th>\n",
       "      <td>103</td>\n",
       "      <td>450.0</td>\n",
       "    </tr>\n",
       "    <tr>\n",
       "      <th>0</th>\n",
       "      <td>100</td>\n",
       "      <td>140.0</td>\n",
       "    </tr>\n",
       "    <tr>\n",
       "      <th>1</th>\n",
       "      <td>101</td>\n",
       "      <td>15.0</td>\n",
       "    </tr>\n",
       "  </tbody>\n",
       "</table>\n",
       "</div>"
      ],
      "text/plain": [
       "   ClienteID  Total\n",
       "2        103  450.0\n",
       "0        100  140.0\n",
       "1        101   15.0"
      ]
     },
     "execution_count": 23,
     "metadata": {},
     "output_type": "execute_result"
    }
   ],
   "source": [
    "df_merge = facturas.merge(productos, how='inner', on='ProductoID')\n",
    "\n",
    "df_merge['Total'] = df_merge['Cantidad'] * df_merge['PrecioUnitario']\n",
    "\n",
    "df_merge.groupby('ClienteID')['Total'].sum()\n",
    "\n",
    "#Tener ordenado el df\n",
    "\n",
    "df_merge.groupby('ClienteID', as_index=False)['Total'].sum().sort_values('Total', ascending=False)\n"
   ]
  },
  {
   "cell_type": "code",
   "execution_count": null,
   "id": "ecf8a067",
   "metadata": {},
   "outputs": [],
   "source": [
    "##Crea una columna nueva llamada Total que sea Cantidad * PrecioUnitario."
   ]
  },
  {
   "cell_type": "markdown",
   "id": "c2e8700a",
   "metadata": {},
   "source": [
    "Ejercicio 3"
   ]
  },
  {
   "cell_type": "code",
   "execution_count": null,
   "id": "e7cfc109",
   "metadata": {},
   "outputs": [],
   "source": [
    "estudiantes = pd.DataFrame({\n",
    "    'EstudianteID': [1, 2, 3],\n",
    "    'Nombre': ['Ana', 'Luis', 'Marta']\n",
    "})\n",
    "\n",
    "cursos = pd.DataFrame({'CursoID': [101, 102, 103],'NombreCurso': ['Matemáticas', 'Historia', 'Programación']})\n",
    "\n",
    "notas = pd.DataFrame({'EstudianteID': [1, 1, 2, 2, 3, 3],'CursoID': [101, 102, 101, 103, 102, 103],'Nota': [4.5, 3.8, 3.9, 4.2, 4.7, 4.5]})\n"
   ]
  },
  {
   "cell_type": "code",
   "execution_count": 27,
   "id": "cfd7d117",
   "metadata": {},
   "outputs": [
    {
     "data": {
      "application/vnd.microsoft.datawrangler.viewer.v0+json": {
       "columns": [
        {
         "name": "index",
         "rawType": "int64",
         "type": "integer"
        },
        {
         "name": "EstudianteID",
         "rawType": "int64",
         "type": "integer"
        },
        {
         "name": "Nombre",
         "rawType": "object",
         "type": "string"
        },
        {
         "name": "CursoID",
         "rawType": "int64",
         "type": "integer"
        },
        {
         "name": "Nota",
         "rawType": "float64",
         "type": "float"
        },
        {
         "name": "NombreCurso",
         "rawType": "object",
         "type": "string"
        }
       ],
       "conversionMethod": "pd.DataFrame",
       "ref": "0991702d-3b9d-4561-8c66-fc02ede03968",
       "rows": [
        [
         "0",
         "1",
         "Ana",
         "101",
         "4.5",
         "Matemáticas"
        ],
        [
         "1",
         "1",
         "Ana",
         "102",
         "3.8",
         "Historia"
        ],
        [
         "2",
         "2",
         "Luis",
         "101",
         "3.9",
         "Matemáticas"
        ],
        [
         "3",
         "2",
         "Luis",
         "103",
         "4.2",
         "Programación"
        ],
        [
         "4",
         "3",
         "Marta",
         "102",
         "4.7",
         "Historia"
        ],
        [
         "5",
         "3",
         "Marta",
         "103",
         "4.5",
         "Programación"
        ]
       ],
       "shape": {
        "columns": 5,
        "rows": 6
       }
      },
      "text/html": [
       "<div>\n",
       "<style scoped>\n",
       "    .dataframe tbody tr th:only-of-type {\n",
       "        vertical-align: middle;\n",
       "    }\n",
       "\n",
       "    .dataframe tbody tr th {\n",
       "        vertical-align: top;\n",
       "    }\n",
       "\n",
       "    .dataframe thead th {\n",
       "        text-align: right;\n",
       "    }\n",
       "</style>\n",
       "<table border=\"1\" class=\"dataframe\">\n",
       "  <thead>\n",
       "    <tr style=\"text-align: right;\">\n",
       "      <th></th>\n",
       "      <th>EstudianteID</th>\n",
       "      <th>Nombre</th>\n",
       "      <th>CursoID</th>\n",
       "      <th>Nota</th>\n",
       "      <th>NombreCurso</th>\n",
       "    </tr>\n",
       "  </thead>\n",
       "  <tbody>\n",
       "    <tr>\n",
       "      <th>0</th>\n",
       "      <td>1</td>\n",
       "      <td>Ana</td>\n",
       "      <td>101</td>\n",
       "      <td>4.5</td>\n",
       "      <td>Matemáticas</td>\n",
       "    </tr>\n",
       "    <tr>\n",
       "      <th>1</th>\n",
       "      <td>1</td>\n",
       "      <td>Ana</td>\n",
       "      <td>102</td>\n",
       "      <td>3.8</td>\n",
       "      <td>Historia</td>\n",
       "    </tr>\n",
       "    <tr>\n",
       "      <th>2</th>\n",
       "      <td>2</td>\n",
       "      <td>Luis</td>\n",
       "      <td>101</td>\n",
       "      <td>3.9</td>\n",
       "      <td>Matemáticas</td>\n",
       "    </tr>\n",
       "    <tr>\n",
       "      <th>3</th>\n",
       "      <td>2</td>\n",
       "      <td>Luis</td>\n",
       "      <td>103</td>\n",
       "      <td>4.2</td>\n",
       "      <td>Programación</td>\n",
       "    </tr>\n",
       "    <tr>\n",
       "      <th>4</th>\n",
       "      <td>3</td>\n",
       "      <td>Marta</td>\n",
       "      <td>102</td>\n",
       "      <td>4.7</td>\n",
       "      <td>Historia</td>\n",
       "    </tr>\n",
       "    <tr>\n",
       "      <th>5</th>\n",
       "      <td>3</td>\n",
       "      <td>Marta</td>\n",
       "      <td>103</td>\n",
       "      <td>4.5</td>\n",
       "      <td>Programación</td>\n",
       "    </tr>\n",
       "  </tbody>\n",
       "</table>\n",
       "</div>"
      ],
      "text/plain": [
       "   EstudianteID Nombre  CursoID  Nota   NombreCurso\n",
       "0             1    Ana      101   4.5   Matemáticas\n",
       "1             1    Ana      102   3.8      Historia\n",
       "2             2   Luis      101   3.9   Matemáticas\n",
       "3             2   Luis      103   4.2  Programación\n",
       "4             3  Marta      102   4.7      Historia\n",
       "5             3  Marta      103   4.5  Programación"
      ]
     },
     "execution_count": 27,
     "metadata": {},
     "output_type": "execute_result"
    }
   ],
   "source": [
    "#Combina todos los DataFrames para tener una tabla con el nombre del estudiante, el nombre del curso y la nota.\n",
    "\n",
    "df_merge= estudiantes.merge(notas, how='inner', on= 'EstudianteID')\n",
    "\n",
    "df_merge= df_merge.merge(cursos, how='inner', on='CursoID')\n",
    "\n",
    "df_merge"
   ]
  },
  {
   "cell_type": "code",
   "execution_count": 31,
   "id": "81941f48",
   "metadata": {},
   "outputs": [],
   "source": [
    "#Usa pivot_table para mostrar una tabla de estudiantes con sus notas por curso.\n",
    "\n",
    "df_resume =pd.pivot_table(df_merge, values='Nota',index='Nombre', columns='NombreCurso', aggfunc='mean')"
   ]
  },
  {
   "cell_type": "code",
   "execution_count": 41,
   "id": "200eb9bc",
   "metadata": {},
   "outputs": [
    {
     "data": {
      "application/vnd.microsoft.datawrangler.viewer.v0+json": {
       "columns": [
        {
         "name": "Nombre",
         "rawType": "object",
         "type": "string"
        },
        {
         "name": "Historia",
         "rawType": "float64",
         "type": "float"
        },
        {
         "name": "Matemáticas",
         "rawType": "float64",
         "type": "float"
        },
        {
         "name": "Programación",
         "rawType": "float64",
         "type": "float"
        },
        {
         "name": "avg_student",
         "rawType": "float64",
         "type": "float"
        }
       ],
       "conversionMethod": "pd.DataFrame",
       "ref": "d3736545-e152-44ca-b11d-0e51e637d547",
       "rows": [
        [
         "Ana",
         "3.8",
         "4.5",
         null,
         "4.15"
        ],
        [
         "Luis",
         null,
         "3.9",
         "4.2",
         "4.05"
        ],
        [
         "Marta",
         "4.7",
         null,
         "4.5",
         "4.6"
        ],
        [
         "avg_course",
         "4.25",
         "4.2",
         "4.35",
         "4.266666666666667"
        ]
       ],
       "shape": {
        "columns": 4,
        "rows": 4
       }
      },
      "text/html": [
       "<div>\n",
       "<style scoped>\n",
       "    .dataframe tbody tr th:only-of-type {\n",
       "        vertical-align: middle;\n",
       "    }\n",
       "\n",
       "    .dataframe tbody tr th {\n",
       "        vertical-align: top;\n",
       "    }\n",
       "\n",
       "    .dataframe thead th {\n",
       "        text-align: right;\n",
       "    }\n",
       "</style>\n",
       "<table border=\"1\" class=\"dataframe\">\n",
       "  <thead>\n",
       "    <tr style=\"text-align: right;\">\n",
       "      <th>NombreCurso</th>\n",
       "      <th>Historia</th>\n",
       "      <th>Matemáticas</th>\n",
       "      <th>Programación</th>\n",
       "      <th>avg_student</th>\n",
       "    </tr>\n",
       "    <tr>\n",
       "      <th>Nombre</th>\n",
       "      <th></th>\n",
       "      <th></th>\n",
       "      <th></th>\n",
       "      <th></th>\n",
       "    </tr>\n",
       "  </thead>\n",
       "  <tbody>\n",
       "    <tr>\n",
       "      <th>Ana</th>\n",
       "      <td>3.80</td>\n",
       "      <td>4.5</td>\n",
       "      <td>NaN</td>\n",
       "      <td>4.150000</td>\n",
       "    </tr>\n",
       "    <tr>\n",
       "      <th>Luis</th>\n",
       "      <td>NaN</td>\n",
       "      <td>3.9</td>\n",
       "      <td>4.20</td>\n",
       "      <td>4.050000</td>\n",
       "    </tr>\n",
       "    <tr>\n",
       "      <th>Marta</th>\n",
       "      <td>4.70</td>\n",
       "      <td>NaN</td>\n",
       "      <td>4.50</td>\n",
       "      <td>4.600000</td>\n",
       "    </tr>\n",
       "    <tr>\n",
       "      <th>avg_course</th>\n",
       "      <td>4.25</td>\n",
       "      <td>4.2</td>\n",
       "      <td>4.35</td>\n",
       "      <td>4.266667</td>\n",
       "    </tr>\n",
       "  </tbody>\n",
       "</table>\n",
       "</div>"
      ],
      "text/plain": [
       "NombreCurso  Historia  Matemáticas  Programación  avg_student\n",
       "Nombre                                                       \n",
       "Ana              3.80          4.5           NaN     4.150000\n",
       "Luis              NaN          3.9          4.20     4.050000\n",
       "Marta            4.70          NaN          4.50     4.600000\n",
       "avg_course       4.25          4.2          4.35     4.266667"
      ]
     },
     "execution_count": 41,
     "metadata": {},
     "output_type": "execute_result"
    }
   ],
   "source": [
    "#Agrega una columna de promedio por estudiante.\n",
    "\n",
    "df_resume['avg_student']= df_resume.mean(axis=1)\n",
    "df_resume.loc['avg_course'] = df_resume.mean(axis=0)\n",
    "\n",
    "df_resume"
   ]
  },
  {
   "cell_type": "code",
   "execution_count": 45,
   "id": "c6256f0e",
   "metadata": {},
   "outputs": [
    {
     "data": {
      "image/png": "[encoded data removed]",
      "text/plain": [
       "<Figure size 800x500 with 2 Axes>"
      ]
     },
     "metadata": {},
     "output_type": "display_data"
    }
   ],
   "source": [
    "import seaborn as sns\n",
    "import matplotlib.pyplot as plt\n",
    "\n",
    "\n",
    "plt.figure(figsize=(8, 5))\n",
    "sns.heatmap(df_resume, annot=True, cmap='YlGnBu', linewidths=0.5, linecolor='gray')\n",
    "plt.title('Mapa de calor de notas por estudiante y curso')\n",
    "plt.xlabel('Curso')\n",
    "plt.ylabel('Estudiante')\n",
    "plt.tight_layout()\n",
    "plt.show()"
   ]
  }
 ],
 "metadata": {
  "kernelspec": {
   "display_name": "Python 3",
   "language": "python",
   "name": "python3"
  },
  "language_info": {
   "codemirror_mode": {
    "name": "ipython",
    "version": 3
   },
   "file_extension": ".py",
   "mimetype": "text/x-python",
   "name": "python",
   "nbconvert_exporter": "python",
   "pygments_lexer": "ipython3",
   "version": "3.13.3"
  }
 },
 "nbformat": 4,
 "nbformat_minor": 5
}
