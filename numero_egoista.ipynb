{
 "cells": [
  {
   "cell_type": "code",
   "execution_count": 1,
   "id": "ef0711d4",
   "metadata": {},
   "outputs": [],
   "source": [
    "import pandas as pd\n",
    "import numpy as np"
   ]
  },
  {
   "cell_type": "markdown",
   "id": "cde69e6b",
   "metadata": {},
   "source": [
    "Generar variables"
   ]
  },
  {
   "cell_type": "markdown",
   "id": "f5005349",
   "metadata": {},
   "source": [
    "La suma de la potencia de cada uno debe ser igual al número"
   ]
  },
  {
   "cell_type": "code",
   "execution_count": null,
   "id": "e729f0f2",
   "metadata": {},
   "outputs": [],
   "source": [
    "\n",
    "def f_egoista(p_numero_1):\n",
    "\n",
    "    v1 = int(p_numero_1)\n",
    "    potencia= len(p_numero_1)\n",
    "    suma= 0\n",
    "    \n",
    "    for i in range(0, potencia):\n",
    "        v_numero = p_numero_1[i]\n",
    "        v_numero = int(v_numero)\n",
    "        v_numero = pow(v_numero, potencia)\n",
    "        suma= suma +  v_numero\n",
    "    \n",
    "    print(f'la suma del número {p_numero_1} es {suma}')\n",
    "\n",
    "    if suma == v1:\n",
    "        narcisista = True\n",
    "        print (f'el número sí es narcisista, su valor es: {narcisista}')\n",
    "    else:\n",
    "        narcisista = False\n",
    "        print (f'el número NO es narcisista, su valor es: {narcisista}')\n",
    "\n"
   ]
  },
  {
   "cell_type": "code",
   "execution_count": 36,
   "id": "6eb55dc5",
   "metadata": {},
   "outputs": [],
   "source": [
    "entrada = input('número: ')"
   ]
  },
  {
   "cell_type": "code",
   "execution_count": 37,
   "id": "27e59758",
   "metadata": {},
   "outputs": [
    {
     "name": "stdout",
     "output_type": "stream",
     "text": [
      "la suma del número 407 es 407\n",
      "el número sí es narcisista, su valor es: True\n"
     ]
    }
   ],
   "source": [
    "f_egoista(entrada)"
   ]
  },
  {
   "cell_type": "markdown",
   "id": "418b3006",
   "metadata": {},
   "source": [
    "Encontrar todos los números narcisitas"
   ]
  },
  {
   "cell_type": "code",
   "execution_count": 50,
   "id": "08220f8d",
   "metadata": {},
   "outputs": [],
   "source": [
    "def n_narcisista():\n",
    "\n",
    "    for i in range (1,10000):\n",
    "        str_number= str(i)\n",
    "        potencia = len(str_number)\n",
    "        suma = 0\n",
    "\n",
    "        for n in range (0, potencia):\n",
    "            v_numero = str_number[n]\n",
    "            v_numero = int(v_numero)\n",
    "            v_numero = v_numero** potencia\n",
    "            suma= suma +  v_numero    \n",
    "\n",
    "            if i == suma :\n",
    "                print(f'el número {i} es narcisista')\n",
    "\n",
    "\n"
   ]
  },
  {
   "cell_type": "code",
   "execution_count": 51,
   "id": "88c3282b",
   "metadata": {},
   "outputs": [
    {
     "name": "stdout",
     "output_type": "stream",
     "text": [
      "el número 1 es narcisista\n",
      "el número 2 es narcisista\n",
      "el número 3 es narcisista\n",
      "el número 4 es narcisista\n",
      "el número 5 es narcisista\n",
      "el número 6 es narcisista\n",
      "el número 7 es narcisista\n",
      "el número 8 es narcisista\n",
      "el número 9 es narcisista\n",
      "el número 153 es narcisista\n",
      "el número 370 es narcisista\n",
      "el número 370 es narcisista\n",
      "el número 371 es narcisista\n",
      "el número 407 es narcisista\n",
      "el número 1634 es narcisista\n",
      "el número 6688 es narcisista\n",
      "el número 8208 es narcisista\n",
      "el número 9474 es narcisista\n"
     ]
    }
   ],
   "source": [
    "n_narcisista()"
   ]
  },
  {
   "cell_type": "markdown",
   "id": "1b46c18e",
   "metadata": {},
   "source": [
    "Número amigable"
   ]
  },
  {
   "cell_type": "code",
   "execution_count": 53,
   "id": "37a6a9e5",
   "metadata": {},
   "outputs": [],
   "source": [
    "Numero1= 220\n",
    "Numero2 = 284"
   ]
  },
  {
   "cell_type": "code",
   "execution_count": 82,
   "id": "a6404c0b",
   "metadata": {},
   "outputs": [],
   "source": [
    "def n_alegre(P_n1, P_n2):    \n",
    "    divisores_1 = []\n",
    "    divisores_2 = []\n",
    "\n",
    "    for i in range (1,P_n1):\n",
    "        if (P_n1 % i == 0):\n",
    "            divisores_1.append(i)\n",
    "\n",
    "    total_div1= sum(divisores_1)\n",
    "\n",
    "    for n in range (1,P_n2):\n",
    "        if (P_n2 % n == 0):\n",
    "            divisores_2.append(n)\n",
    "\n",
    "    total_div2= sum(divisores_2)\n",
    "\n",
    "    if (total_div1 == P_n2 and total_div2==P_n1):\n",
    "        print (f'los números {P_n1} y {P_n2} son alegres')\n",
    "    else:\n",
    "        print (f'los números {P_n1} y {P_n2} NO son alegres')"
   ]
  },
  {
   "cell_type": "code",
   "execution_count": 83,
   "id": "0097ab5e",
   "metadata": {},
   "outputs": [
    {
     "name": "stdout",
     "output_type": "stream",
     "text": [
      "los números 220 y 284 son alegres\n"
     ]
    }
   ],
   "source": [
    "n_alegre(220,284)"
   ]
  },
  {
   "cell_type": "markdown",
   "id": "409f1b15",
   "metadata": {},
   "source": [
    "Encontrar cada número"
   ]
  },
  {
   "cell_type": "code",
   "execution_count": null,
   "id": "4ceaecc4",
   "metadata": {},
   "outputs": [],
   "source": []
  }
 ],
 "metadata": {
  "kernelspec": {
   "display_name": "Python 3",
   "language": "python",
   "name": "python3"
  },
  "language_info": {
   "codemirror_mode": {
    "name": "ipython",
    "version": 3
   },
   "file_extension": ".py",
   "mimetype": "text/x-python",
   "name": "python",
   "nbconvert_exporter": "python",
   "pygments_lexer": "ipython3",
   "version": "3.9.13"
  }
 },
 "nbformat": 4,
 "nbformat_minor": 5
}
