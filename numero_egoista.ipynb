{
 "cells": [
  {
   "cell_type": "code",
   "execution_count": 1,
   "id": "ef0711d4",
   "metadata": {},
   "outputs": [],
   "source": [
    "import pandas as pd\n",
    "import numpy as np"
   ]
  },
  {
   "cell_type": "markdown",
   "id": "cde69e6b",
   "metadata": {},
   "source": [
    "Número narcicista: la suma de la potencia de los números debe ser igual al propio número"
   ]
  },
  {
   "cell_type": "markdown",
   "id": "f5005349",
   "metadata": {},
   "source": [
    "Primer ejercicio: decifrar si un número es narcisista"
   ]
  },
  {
   "cell_type": "code",
   "execution_count": 6,
   "id": "e729f0f2",
   "metadata": {},
   "outputs": [],
   "source": [
    "\n",
    "def f_egoista(p_numero_1):\n",
    "\n",
    "    v1 = int(p_numero_1)\n",
    "    potencia= len(p_numero_1)\n",
    "    suma= 0\n",
    "    \n",
    "    for i in range(0, potencia):\n",
    "        v_numero = p_numero_1[i]\n",
    "        v_numero = int(v_numero)\n",
    "        v_numero = pow(v_numero, potencia)\n",
    "        suma= suma +  v_numero\n",
    "    \n",
    "    print(f'la suma del número {p_numero_1} es {suma}')\n",
    "\n",
    "    if suma == v1:\n",
    "        narcisista = True\n",
    "        print (f'el número sí es narcisista, su valor es: {narcisista}')\n",
    "    else:\n",
    "        narcisista = False\n",
    "        print (f'el número NO es narcisista, su valor es: {narcisista}')\n",
    "\n"
   ]
  },
  {
   "cell_type": "code",
   "execution_count": 36,
   "id": "6eb55dc5",
   "metadata": {},
   "outputs": [],
   "source": [
    "entrada = input('número: ')"
   ]
  },
  {
   "cell_type": "code",
   "execution_count": 37,
   "id": "27e59758",
   "metadata": {},
   "outputs": [
    {
     "name": "stdout",
     "output_type": "stream",
     "text": [
      "la suma del número 407 es 407\n",
      "el número sí es narcisista, su valor es: True\n"
     ]
    }
   ],
   "source": [
    "f_egoista(entrada)"
   ]
  },
  {
   "cell_type": "markdown",
   "id": "418b3006",
   "metadata": {},
   "source": [
    "Ejercicio 2: definir todos los números narcisitas del 1 al 10000"
   ]
  },
  {
   "cell_type": "code",
   "execution_count": 7,
   "id": "08220f8d",
   "metadata": {},
   "outputs": [],
   "source": [
    "def n_narcisista():\n",
    "    l_narcicista = []\n",
    "    for i in range (1,10000):\n",
    "        str_number= str(i)\n",
    "        potencia = len(str_number)\n",
    "        suma = 0\n",
    "\n",
    "        for n in range (0, potencia):\n",
    "            v_numero = str_number[n]\n",
    "            v_numero = int(v_numero)\n",
    "            v_numero = v_numero** potencia\n",
    "            suma= suma +  v_numero    \n",
    "\n",
    "        if i == suma :\n",
    "            print(f'el número {i} es narcisista')\n",
    "            l_narcicista.append(i)\n",
    "                \n",
    "    return l_narcicista\n",
    "\n",
    "\n"
   ]
  },
  {
   "cell_type": "code",
   "execution_count": 8,
   "id": "88c3282b",
   "metadata": {},
   "outputs": [
    {
     "name": "stdout",
     "output_type": "stream",
     "text": [
      "el número 1 es narcisista\n",
      "el número 2 es narcisista\n",
      "el número 3 es narcisista\n",
      "el número 4 es narcisista\n",
      "el número 5 es narcisista\n",
      "el número 6 es narcisista\n",
      "el número 7 es narcisista\n",
      "el número 8 es narcisista\n",
      "el número 9 es narcisista\n",
      "el número 153 es narcisista\n",
      "el número 370 es narcisista\n",
      "el número 371 es narcisista\n",
      "el número 407 es narcisista\n",
      "el número 1634 es narcisista\n",
      "el número 8208 es narcisista\n",
      "el número 9474 es narcisista\n"
     ]
    },
    {
     "data": {
      "text/plain": [
       "[1, 2, 3, 4, 5, 6, 7, 8, 9, 153, 370, 371, 407, 1634, 8208, 9474]"
      ]
     },
     "execution_count": 8,
     "metadata": {},
     "output_type": "execute_result"
    }
   ],
   "source": [
    "n_narcisista()"
   ]
  },
  {
   "cell_type": "markdown",
   "id": "1b46c18e",
   "metadata": {},
   "source": [
    "Número amigable\n",
    "\n",
    "Dos números son amigos si la suma de los divisores propios (excluyendo el propio número) de uno es igual al otro, y viceversa.\n",
    "\n",
    "Por ejemplo:\n",
    "220 y 284 son números amigos, porque:\n",
    "\n",
    "Los divisores propios de 220 son: 1, 2, 4, 5, 10, 11, 20, 22, 44, 55, 110 → suman 284\n",
    "\n",
    "Los divisores propios de 284 son: 1, 2, 4, 71, 142 → suman 220"
   ]
  },
  {
   "cell_type": "markdown",
   "id": "36b2af43",
   "metadata": {},
   "source": [
    "Ejercicio 1: definir una función para saber si dos números son amigables"
   ]
  },
  {
   "cell_type": "code",
   "execution_count": 10,
   "id": "37a6a9e5",
   "metadata": {},
   "outputs": [],
   "source": [
    "Numero1= 220\n",
    "Numero2 = 284"
   ]
  },
  {
   "cell_type": "code",
   "execution_count": 18,
   "id": "a6404c0b",
   "metadata": {},
   "outputs": [],
   "source": [
    "def n_alegre(P_n1, P_n2):    \n",
    "    divisores_1 = []\n",
    "    divisores_2 = []\n",
    "\n",
    "    for i in range (1,P_n1):\n",
    "        if (P_n1 % i == 0):\n",
    "            divisores_1.append(i)\n",
    "\n",
    "    total_div1= sum(divisores_1)\n",
    "\n",
    "    for n in range (1,P_n2):\n",
    "        if (P_n2 % n == 0):\n",
    "            divisores_2.append(n)\n",
    "\n",
    "    total_div2= sum(divisores_2)\n",
    "\n",
    "    if (total_div1 == P_n2 and total_div2==P_n1 and P_n1 != P_n2):\n",
    "        print (f'los números {P_n1} y {P_n2} son alegres')\n",
    "    "
   ]
  },
  {
   "cell_type": "code",
   "execution_count": 19,
   "id": "0097ab5e",
   "metadata": {},
   "outputs": [
    {
     "name": "stdout",
     "output_type": "stream",
     "text": [
      "los números 220 y 284 son alegres\n"
     ]
    }
   ],
   "source": [
    "n_alegre(220,284)"
   ]
  },
  {
   "cell_type": "markdown",
   "id": "409f1b15",
   "metadata": {},
   "source": [
    "Ejercicio 2: definir una función para encontrar cada número amigable del 1 al 10000"
   ]
  },
  {
   "cell_type": "code",
   "execution_count": null,
   "id": "4ceaecc4",
   "metadata": {},
   "outputs": [
    {
     "name": "stdout",
     "output_type": "stream",
     "text": [
      "los números 220 y 284 son alegres\n",
      "los números 284 y 220 son alegres\n"
     ]
    }
   ],
   "source": [
    "for i in range (1, 1000):\n",
    "    for n in range (1, 1000):\n",
    "        n_alegre(i,n)\n",
    "        "
   ]
  }
 ],
 "metadata": {
  "kernelspec": {
   "display_name": "Python 3",
   "language": "python",
   "name": "python3"
  },
  "language_info": {
   "codemirror_mode": {
    "name": "ipython",
    "version": 3
   },
   "file_extension": ".py",
   "mimetype": "text/x-python",
   "name": "python",
   "nbconvert_exporter": "python",
   "pygments_lexer": "ipython3",
   "version": "3.9.13"
  }
 },
 "nbformat": 4,
 "nbformat_minor": 5
}
