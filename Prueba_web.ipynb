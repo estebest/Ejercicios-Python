{
 "cells": [
  {
   "cell_type": "code",
   "execution_count": null,
   "id": "5dc683fa",
   "metadata": {},
   "outputs": [],
   "source": [
    "import dash\n",
    "from dash import html, dcc\n",
    "import plotly.express as px\n",
    "import pandas as pd\n",
    "\n",
    "# Crear datos de ejemplo\n",
    "df = pd.DataFrame({\n",
    "    \"Fruit\": [\"Apples\", \"Oranges\", \"Bananas\", \"Apples\", \"Oranges\", \"Bananas\"],\n",
    "    \"Amount\": [4, 1, 2, 2, 4, 5],\n",
    "    \"City\": [\"SF\", \"SF\", \"SF\", \"Montreal\", \"Montreal\", \"Montreal\"]\n",
    "})\n",
    "\n",
    "fig = px.bar(df, x=\"Fruit\", y=\"Amount\", color=\"City\", barmode=\"group\")\n",
    "\n",
    "# Crear app\n",
    "app = dash.Dash(__name__)\n",
    "\n",
    "app.layout = html.Div(children=[\n",
    "    html.H1(children='Mi Dashboard'),\n",
    "\n",
    "    html.Div(children='Gráfico interactivo con Plotly.'),\n",
    "\n",
    "    dcc.Graph(\n",
    "        id='example-graph',\n",
    "        figure=fig\n",
    "    )\n",
    "])\n",
    "\n",
    "if __name__ == '__main__':\n",
    "    app.run_server(debug=True)\n"
   ]
  }
 ],
 "metadata": {
  "language_info": {
   "name": "python"
  }
 },
 "nbformat": 4,
 "nbformat_minor": 5
}
